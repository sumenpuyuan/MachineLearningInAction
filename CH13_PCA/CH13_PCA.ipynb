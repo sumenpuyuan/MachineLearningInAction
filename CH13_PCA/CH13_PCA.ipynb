{
 "cells": [
  {
   "cell_type": "code",
   "execution_count": 1,
   "metadata": {
    "collapsed": true
   },
   "outputs": [],
   "source": [
    "from numpy import *\n",
    "def loadDataSet(fileName):\n",
    "    with open(fileName) as f1:\n",
    "        content = f1.readlines()\n",
    "        lines = [list(map(float,line.strip(\"\\n\").split(\"\\t\"))) for line in content]\n",
    "    return mat(lines)\n",
    "\n",
    "def pca1(dataMat,topNfeat = 9999):\n",
    "    meanVal = mean(dataMat,axis=0)\n",
    "    meanRemoved = dataMat - meanVal\n",
    "    covMat = cov(meanRemoved,rowvar=0)#协方差矩阵\n",
    "    eigVals,eigVects = linalg.eig(mat(covMat)) #特征值和特征向量\n",
    "    eigInd = argsort(eigVals)[::-1][0:topNfeat] #从大到小排序\n",
    "    redEigVects = eigVects[:,eigInd] #\n",
    "    lowData = meanRemoved * redEigVects #降维后的数据\n",
    "    reconMat = (lowData * redEigVects.T) + meanVal #重构后的数据\n",
    "    return lowData,reconMat\n",
    "def pca(dataMat,topNfeat=999999):\n",
    "    meanVals=mean(dataMat,axis=0)\n",
    "    meanRemoved=dataMat-meanVals\n",
    "    covMat=cov(meanRemoved,rowvar=0)\n",
    "    eigVals,eigVects=linalg.eig(mat(covMat))\n",
    "    eigValInd=argsort(eigVals)\n",
    "    eigValInd=eigValInd[:-(topNfeat+1):-1]\n",
    "    redEigVects=eigVects[:,eigValInd]\n",
    "    lowDDataMat=meanRemoved*redEigVects\n",
    "    reconMat=(lowDDataMat*redEigVects.T)+meanVals\n",
    "    return lowDDataMat,reconMat"
   ]
  },
  {
   "cell_type": "code",
   "execution_count": 2,
   "metadata": {},
   "outputs": [
    {
     "name": "stdout",
     "output_type": "stream",
     "text": [
      "[[10.235186 11.321997]\n",
      " [10.122339 11.810993]\n",
      " [ 9.190236  8.904943]\n",
      " ...\n",
      " [ 9.854922  9.201393]\n",
      " [ 9.11458   9.134215]\n",
      " [10.334899  8.543604]]\n",
      "(1000, 1)\n"
     ]
    }
   ],
   "source": [
    "dataMat=loadDataSet('testSet.txt')\n",
    "print(dataMat)\n",
    "lowDMat,reconMat=pca(dataMat,1)\n",
    "print(shape(lowDMat))"
   ]
  },
  {
   "cell_type": "code",
   "execution_count": 3,
   "metadata": {},
   "outputs": [
    {
     "data": {
      "image/png": "[encoded data removed]",
      "text/plain": [
       "<matplotlib.figure.Figure at 0x2a72c9e1e10>"
      ]
     },
     "metadata": {},
     "output_type": "display_data"
    }
   ],
   "source": [
    "import matplotlib.pyplot as plt\n",
    "fig = plt.figure()\n",
    "ax = fig.add_subplot(111)\n",
    "ax.scatter(dataMat[:,0].flatten().A[0],dataMat[:,1].flatten().A[0],marker=\"^\",s = 90)\n",
    "ax.scatter(reconMat[:, 0].flatten().A[0], reconMat[:, 1].flatten().A[0], marker=\"o\", s=50,c =\"red\")\n",
    "plt.show()"
   ]
  },
  {
   "cell_type": "code",
   "execution_count": 4,
   "metadata": {},
   "outputs": [
    {
     "name": "stdout",
     "output_type": "stream",
     "text": [
      "(1000, 1)\n",
      "[-2.510335968263292]\n",
      "(1000, 2)\n"
     ]
    }
   ],
   "source": [
    "lowDMat,reconMat=pca(dataMat,1)\n",
    "print(shape(lowDMat))\n",
    "test=lowDMat.tolist()\n",
    "print(test[0])\n",
    "print(shape(reconMat))\n"
   ]
  },
  {
   "cell_type": "code",
   "execution_count": null,
   "metadata": {
    "collapsed": true
   },
   "outputs": [],
   "source": []
  }
 ],
 "metadata": {
  "kernelspec": {
   "display_name": "Python 3",
   "language": "python",
   "name": "python3"
  },
  "language_info": {
   "codemirror_mode": {
    "name": "ipython",
    "version": 3
   },
   "file_extension": ".py",
   "mimetype": "text/x-python",
   "name": "python",
   "nbconvert_exporter": "python",
   "pygments_lexer": "ipython3",
   "version": "3.6.3"
  }
 },
 "nbformat": 4,
 "nbformat_minor": 2
}
