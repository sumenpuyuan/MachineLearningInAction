{
 "cells": [
  {
   "cell_type": "markdown",
   "metadata": {},
   "source": [
    "# 使用python导入数据 #"
   ]
  },
  {
   "cell_type": "code",
   "execution_count": 2,
   "metadata": {},
   "outputs": [],
   "source": [
    "from numpy import *\n",
    "import operator\n",
    "def createDataSet():\n",
    "    group=array([[1.0,1.1],[1.0,1.0],[0,0],[0,0.1]])\n",
    "    labels=['A','A','B','B']\n",
    "    return group,labels"
   ]
  },
  {
   "cell_type": "code",
   "execution_count": 3,
   "metadata": {},
   "outputs": [
    {
     "name": "stdout",
     "output_type": "stream",
     "text": [
      "[[1.  1.1]\n",
      " [1.  1. ]\n",
      " [0.  0. ]\n",
      " [0.  0.1]]\n",
      "['A', 'A', 'B', 'B']\n"
     ]
    }
   ],
   "source": [
    "group,labels=createDataSet()\n",
    "print(group)\n",
    "print(labels)"
   ]
  },
  {
   "cell_type": "markdown",
   "metadata": {},
   "source": [
    "# k近邻算法 #"
   ]
  },
  {
   "cell_type": "code",
   "execution_count": 8,
   "metadata": {},
   "outputs": [
    {
     "data": {
      "text/plain": [
       "'B'"
      ]
     },
     "execution_count": 8,
     "metadata": {},
     "output_type": "execute_result"
    }
   ],
   "source": [
    "def classify0(inX,dataSet,labels,k):\n",
    "    dataSetSize=dataSet.shape[0]\n",
    "    diffMat=tile(inX,(dataSetSize,1))-dataSet\n",
    "    sqDiffMat=diffMat**2\n",
    "    sqDistances=sqDiffMat.sum(axis=1)\n",
    "    distances=sqDistances**0.5\n",
    "    sortedDistIndicies=distances.argsort()\n",
    "    classCount={}\n",
    "    for i in range(k):\n",
    "        voteIlabel=labels[sortedDistIndicies[i]]\n",
    "        classCount[voteIlabel]=classCount.get(voteIlabel,0)+1\n",
    "    sortedClassCount=sorted(classCount.items(),key=operator.itemgetter(1),reverse=True)\n",
    "    return sortedClassCount[0][0]\n",
    "classify0([0,0],group,labels,3)"
   ]
  },
  {
   "cell_type": "markdown",
   "metadata": {},
   "source": [
    "# 使用k近邻算法改进约会网站的配对效果 #"
   ]
  },
  {
   "cell_type": "code",
   "execution_count": null,
   "metadata": {},
   "outputs": [],
   "source": [
    "def file2matrix(filename):\n",
    "    fr=open(filename)\n",
    "    arrayOLines=fr.readlines()\n",
    "    numberOfLines=len(arrayOLines)\n",
    "    returnMat=zeros((numberOfLines,3))\n",
    "    classLabelVector.append(int(list))"
   ]
  }
 ],
 "metadata": {
  "kernelspec": {
   "display_name": "Python 3",
   "language": "python",
   "name": "python3"
  },
  "language_info": {
   "codemirror_mode": {
    "name": "ipython",
    "version": 3
   },
   "file_extension": ".py",
   "mimetype": "text/x-python",
   "name": "python",
   "nbconvert_exporter": "python",
   "pygments_lexer": "ipython3",
   "version": "3.6.5"
  }
 },
 "nbformat": 4,
 "nbformat_minor": 2
}
